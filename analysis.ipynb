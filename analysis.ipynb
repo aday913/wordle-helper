{
 "cells": [
  {
   "cell_type": "markdown",
   "metadata": {},
   "source": [
    "# Analysis to aid in development of a wordle challenge helper  \n",
    "---\n",
    "## Notebook goal: using data analysis, discover trends in 5-letter english words to develop the logic needed to automate a wordle solver.\n"
   ]
  },
  {
   "cell_type": "markdown",
   "metadata": {},
   "source": [
    "### First step of analysis: determine the best **first guess** to use in a game of wordle  \n",
    "\n",
    "We can look at the most-used letters for five-letter words to see if there is any stand-out first guesses"
   ]
  },
  {
   "cell_type": "code",
   "execution_count": 13,
   "metadata": {},
   "outputs": [
    {
     "data": {
      "image/png": "[encoded data removed]",
      "text/plain": [
       "<Figure size 432x288 with 1 Axes>"
      ]
     },
     "metadata": {},
     "output_type": "display_data"
    }
   ],
   "source": [
    "from english_words import english_words_lower_alpha_set\n",
    "from matplotlib import pyplot as plt\n",
    "\n",
    "%matplotlib inline\n",
    "plt.style.use('ggplot')\n",
    "\n",
    "allWords = list(english_words_lower_alpha_set)\n",
    "words = [i for i in allWords if len(i) == 5]\n",
    "words.remove('u.s.a')   # 'u.s.a' considered a word for some reason\n",
    "\n",
    "numWords = len(words)\n",
    "letters = {\n",
    "    'a' : 0, 'b' : 0,\n",
    "    'c' : 0, 'd' : 0,\n",
    "    'e' : 0, 'f' : 0,\n",
    "    'g' : 0, 'h' : 0,\n",
    "    'i' : 0, 'j' : 0,\n",
    "    'k' : 0, 'l' : 0,\n",
    "    'm' : 0, 'n' : 0,\n",
    "    'o' : 0, 'p' : 0,\n",
    "    'q' : 0, 'r' : 0,\n",
    "    's' : 0, 't' : 0,\n",
    "    'u' : 0, 'v' : 0,\n",
    "    'w' : 0, 'x' : 0,\n",
    "    'y' : 0, 'z' : 0\n",
    "}\n",
    "\n",
    "for word in words:\n",
    "    usedLetters = []\n",
    "    for letter in word:\n",
    "        if letter not in usedLetters:\n",
    "            letters[letter] += 1\n",
    "            usedLetters.append(letter)\n",
    "\n",
    "x = []\n",
    "y = []\n",
    "for key in letters:\n",
    "    x.append(key)\n",
    "    y.append((letters[key]/numWords) * 100)\n",
    "x_pos = [i for i, _ in enumerate(x)]\n",
    "\n",
    "plt.bar(x_pos, y, color='green')\n",
    "plt.xlabel('Letter')\n",
    "plt.ylabel('Percent Used')\n",
    "plt.title('Unique Letters Used in Five-Letter Words')\n",
    "\n",
    "plt.xticks(x_pos, x)\n",
    "\n",
    "plt.show()"
   ]
  },
  {
   "cell_type": "markdown",
   "metadata": {},
   "source": [
    "It appears as though the most common letters are:\n",
    "\n",
    "* e\n",
    "* a\n",
    "* r\n",
    "* o\n",
    "* i\n",
    "* l\n",
    "* s\n",
    "* t\n",
    "\n",
    "While a, e, r, o, and i don't come together to make a five-letter word, we can find the best combo of letters by assigning a value to all combinations of five-letter words that can be made from these above letters. We can assign a value by adding together the % used value for each of the five letters for each combination.\n",
    "\n",
    "Once we know the values for all combinations, we can start from the highest value combos and work our way down. These combos will then be tested for whether there is a word that contains all five. If there is a word, this is the most optimum starting wordle word!"
   ]
  },
  {
   "cell_type": "code",
   "execution_count": 60,
   "metadata": {},
   "outputs": [
    {
     "name": "stdout",
     "output_type": "stream",
     "text": [
      "    Testing combo ['a', 'e', 'r', 'o', 'i']\n",
      "    Testing combo ['a', 'e', 'r', 'o', 'l']\n",
      "    Testing combo ['a', 'e', 'r', 'o', 's']\n",
      "Best word: arose\n",
      "Best combination of letters: aeros\n",
      "Best word to use: arose\n"
     ]
    }
   ],
   "source": [
    "from itertools import combinations\n",
    "\n",
    "# Create all combinations of 5 letters and store them in a dictionary\n",
    "topLetters = ['a', 'e', 'r', 'o', 'i', 'l', 's', 't']\n",
    "combos = combinations(topLetters, 5)\n",
    "values = {}\n",
    "for i in list(combos):\n",
    "    values[''.join(i)] = 0\n",
    "\n",
    "# Assign values to each of the combinations\n",
    "for key in values:\n",
    "    for i in key:\n",
    "        values[key] += (letters[i]/numWords) \n",
    "\n",
    "# Sort the values dictionary by value\n",
    "values = dict(sorted(values.items(), key=lambda item: item[1], reverse=True))\n",
    "\n",
    "def findWord(testLetters):\n",
    "    '''\n",
    "    Given a list of test letters, will try to find a word with all five\n",
    "    '''\n",
    "    print(f'    Testing combo {testLetters}')\n",
    "    firstWord = None\n",
    "    for word in words:\n",
    "        goodLetters = [i for i in testLetters]\n",
    "        for letter in word:\n",
    "            if letter in goodLetters:\n",
    "                goodLetters.remove(letter)\n",
    "        if len(goodLetters) == 0:\n",
    "            print(f'Best word: {word}')\n",
    "            firstWord = word\n",
    "            return True, firstWord\n",
    "    return False, None\n",
    "\n",
    "optimized = False\n",
    "for key in values:\n",
    "    if not optimized:\n",
    "        check, word = findWord([char for char in key])\n",
    "        if check:\n",
    "            print(f'Best combination of letters: {key}')\n",
    "            print(f'Best word to use: {word}')\n",
    "            optimized = True\n"
   ]
  },
  {
   "cell_type": "markdown",
   "metadata": {},
   "source": [
    "From the above analysis, we can make the conclusion that the best combination of letters to use is 'a', 'e', 'r', 'o', and 's', and one word that fits this combination is the word **arose**. This should be the first word tested in a game of Wordle. "
   ]
  }
 ],
 "metadata": {
  "interpreter": {
   "hash": "38da416465143a73d53dbc41d7124f82dc592cef055b08ac941881bdb3020a0a"
  },
  "kernelspec": {
   "display_name": "Python 3.7.4 32-bit ('venv': venv)",
   "language": "python",
   "name": "python3"
  },
  "language_info": {
   "codemirror_mode": {
    "name": "ipython",
    "version": 3
   },
   "file_extension": ".py",
   "mimetype": "text/x-python",
   "name": "python",
   "nbconvert_exporter": "python",
   "pygments_lexer": "ipython3",
   "version": "3.7.4"
  },
  "orig_nbformat": 4
 },
 "nbformat": 4,
 "nbformat_minor": 2
}
